{
  "nbformat": 4,
  "nbformat_minor": 0,
  "metadata": {
    "colab": {
      "name": "MLP_Regressor.ipynb",
      "provenance": [],
      "mount_file_id": "1XypXyge53_X9d0F0noA6fSmk3HACd0mI",
      "authorship_tag": "ABX9TyPRhqErKiPt1mxHRuFP4oGH",
      "include_colab_link": true
    },
    "kernelspec": {
      "name": "python3",
      "display_name": "Python 3"
    },
    "language_info": {
      "name": "python"
    }
  },
  "cells": [
    {
      "cell_type": "markdown",
      "metadata": {
        "id": "view-in-github",
        "colab_type": "text"
      },
      "source": [
        "<a href=\"https://colab.research.google.com/github/R4HUL-ROY/Deep_Learning/blob/main/MLP_Regressor.ipynb\" target=\"_parent\"><img src=\"https://colab.research.google.com/assets/colab-badge.svg\" alt=\"Open In Colab\"/></a>"
      ]
    },
    {
      "cell_type": "code",
      "metadata": {
        "colab": {
          "base_uri": "https://localhost:8080/"
        },
        "id": "Yl1H5mAiLQJE",
        "outputId": "c24e8491-454c-41e8-901a-ca84a9800657"
      },
      "source": [
        "import numpy as np\n",
        "import pandas as pd\n",
        "import tensorflow as tf\n",
        "print(tf.__version__)"
      ],
      "execution_count": 57,
      "outputs": [
        {
          "output_type": "stream",
          "name": "stdout",
          "text": [
            "2.7.0\n"
          ]
        }
      ]
    },
    {
      "cell_type": "code",
      "metadata": {
        "colab": {
          "base_uri": "https://localhost:8080/"
        },
        "id": "CWtpUI5OPebj",
        "outputId": "7cfb3257-032b-4071-9fe2-e5816da01ace"
      },
      "source": [
        "!pip install keras-tuner"
      ],
      "execution_count": 58,
      "outputs": [
        {
          "output_type": "stream",
          "name": "stdout",
          "text": [
            "Requirement already satisfied: keras-tuner in /usr/local/lib/python3.7/dist-packages (1.1.0)\n",
            "Requirement already satisfied: tensorboard in /usr/local/lib/python3.7/dist-packages (from keras-tuner) (2.7.0)\n",
            "Requirement already satisfied: kt-legacy in /usr/local/lib/python3.7/dist-packages (from keras-tuner) (1.0.4)\n",
            "Requirement already satisfied: requests in /usr/local/lib/python3.7/dist-packages (from keras-tuner) (2.23.0)\n",
            "Requirement already satisfied: ipython in /usr/local/lib/python3.7/dist-packages (from keras-tuner) (5.5.0)\n",
            "Requirement already satisfied: packaging in /usr/local/lib/python3.7/dist-packages (from keras-tuner) (21.3)\n",
            "Requirement already satisfied: numpy in /usr/local/lib/python3.7/dist-packages (from keras-tuner) (1.19.5)\n",
            "Requirement already satisfied: scipy in /usr/local/lib/python3.7/dist-packages (from keras-tuner) (1.4.1)\n",
            "Requirement already satisfied: pexpect in /usr/local/lib/python3.7/dist-packages (from ipython->keras-tuner) (4.8.0)\n",
            "Requirement already satisfied: prompt-toolkit<2.0.0,>=1.0.4 in /usr/local/lib/python3.7/dist-packages (from ipython->keras-tuner) (1.0.18)\n",
            "Requirement already satisfied: decorator in /usr/local/lib/python3.7/dist-packages (from ipython->keras-tuner) (4.4.2)\n",
            "Requirement already satisfied: pygments in /usr/local/lib/python3.7/dist-packages (from ipython->keras-tuner) (2.6.1)\n",
            "Requirement already satisfied: pickleshare in /usr/local/lib/python3.7/dist-packages (from ipython->keras-tuner) (0.7.5)\n",
            "Requirement already satisfied: simplegeneric>0.8 in /usr/local/lib/python3.7/dist-packages (from ipython->keras-tuner) (0.8.1)\n",
            "Requirement already satisfied: traitlets>=4.2 in /usr/local/lib/python3.7/dist-packages (from ipython->keras-tuner) (5.1.1)\n",
            "Requirement already satisfied: setuptools>=18.5 in /usr/local/lib/python3.7/dist-packages (from ipython->keras-tuner) (57.4.0)\n",
            "Requirement already satisfied: wcwidth in /usr/local/lib/python3.7/dist-packages (from prompt-toolkit<2.0.0,>=1.0.4->ipython->keras-tuner) (0.2.5)\n",
            "Requirement already satisfied: six>=1.9.0 in /usr/local/lib/python3.7/dist-packages (from prompt-toolkit<2.0.0,>=1.0.4->ipython->keras-tuner) (1.15.0)\n",
            "Requirement already satisfied: pyparsing!=3.0.5,>=2.0.2 in /usr/local/lib/python3.7/dist-packages (from packaging->keras-tuner) (3.0.6)\n",
            "Requirement already satisfied: ptyprocess>=0.5 in /usr/local/lib/python3.7/dist-packages (from pexpect->ipython->keras-tuner) (0.7.0)\n",
            "Requirement already satisfied: chardet<4,>=3.0.2 in /usr/local/lib/python3.7/dist-packages (from requests->keras-tuner) (3.0.4)\n",
            "Requirement already satisfied: certifi>=2017.4.17 in /usr/local/lib/python3.7/dist-packages (from requests->keras-tuner) (2021.10.8)\n",
            "Requirement already satisfied: idna<3,>=2.5 in /usr/local/lib/python3.7/dist-packages (from requests->keras-tuner) (2.10)\n",
            "Requirement already satisfied: urllib3!=1.25.0,!=1.25.1,<1.26,>=1.21.1 in /usr/local/lib/python3.7/dist-packages (from requests->keras-tuner) (1.24.3)\n",
            "Requirement already satisfied: google-auth-oauthlib<0.5,>=0.4.1 in /usr/local/lib/python3.7/dist-packages (from tensorboard->keras-tuner) (0.4.6)\n",
            "Requirement already satisfied: absl-py>=0.4 in /usr/local/lib/python3.7/dist-packages (from tensorboard->keras-tuner) (0.12.0)\n",
            "Requirement already satisfied: werkzeug>=0.11.15 in /usr/local/lib/python3.7/dist-packages (from tensorboard->keras-tuner) (1.0.1)\n",
            "Requirement already satisfied: tensorboard-plugin-wit>=1.6.0 in /usr/local/lib/python3.7/dist-packages (from tensorboard->keras-tuner) (1.8.0)\n",
            "Requirement already satisfied: google-auth<3,>=1.6.3 in /usr/local/lib/python3.7/dist-packages (from tensorboard->keras-tuner) (1.35.0)\n",
            "Requirement already satisfied: tensorboard-data-server<0.7.0,>=0.6.0 in /usr/local/lib/python3.7/dist-packages (from tensorboard->keras-tuner) (0.6.1)\n",
            "Requirement already satisfied: grpcio>=1.24.3 in /usr/local/lib/python3.7/dist-packages (from tensorboard->keras-tuner) (1.42.0)\n",
            "Requirement already satisfied: wheel>=0.26 in /usr/local/lib/python3.7/dist-packages (from tensorboard->keras-tuner) (0.37.0)\n",
            "Requirement already satisfied: protobuf>=3.6.0 in /usr/local/lib/python3.7/dist-packages (from tensorboard->keras-tuner) (3.17.3)\n",
            "Requirement already satisfied: markdown>=2.6.8 in /usr/local/lib/python3.7/dist-packages (from tensorboard->keras-tuner) (3.3.6)\n",
            "Requirement already satisfied: cachetools<5.0,>=2.0.0 in /usr/local/lib/python3.7/dist-packages (from google-auth<3,>=1.6.3->tensorboard->keras-tuner) (4.2.4)\n",
            "Requirement already satisfied: pyasn1-modules>=0.2.1 in /usr/local/lib/python3.7/dist-packages (from google-auth<3,>=1.6.3->tensorboard->keras-tuner) (0.2.8)\n",
            "Requirement already satisfied: rsa<5,>=3.1.4 in /usr/local/lib/python3.7/dist-packages (from google-auth<3,>=1.6.3->tensorboard->keras-tuner) (4.8)\n",
            "Requirement already satisfied: requests-oauthlib>=0.7.0 in /usr/local/lib/python3.7/dist-packages (from google-auth-oauthlib<0.5,>=0.4.1->tensorboard->keras-tuner) (1.3.0)\n",
            "Requirement already satisfied: importlib-metadata>=4.4 in /usr/local/lib/python3.7/dist-packages (from markdown>=2.6.8->tensorboard->keras-tuner) (4.8.2)\n",
            "Requirement already satisfied: zipp>=0.5 in /usr/local/lib/python3.7/dist-packages (from importlib-metadata>=4.4->markdown>=2.6.8->tensorboard->keras-tuner) (3.6.0)\n",
            "Requirement already satisfied: typing-extensions>=3.6.4 in /usr/local/lib/python3.7/dist-packages (from importlib-metadata>=4.4->markdown>=2.6.8->tensorboard->keras-tuner) (3.10.0.2)\n",
            "Requirement already satisfied: pyasn1<0.5.0,>=0.4.6 in /usr/local/lib/python3.7/dist-packages (from pyasn1-modules>=0.2.1->google-auth<3,>=1.6.3->tensorboard->keras-tuner) (0.4.8)\n",
            "Requirement already satisfied: oauthlib>=3.0.0 in /usr/local/lib/python3.7/dist-packages (from requests-oauthlib>=0.7.0->google-auth-oauthlib<0.5,>=0.4.1->tensorboard->keras-tuner) (3.1.1)\n"
          ]
        }
      ]
    },
    {
      "cell_type": "code",
      "metadata": {
        "id": "H-F9XKNZM4t-"
      },
      "source": [
        "df = pd.read_csv('/content/drive/MyDrive/Machine Learning/ML DATASET/concrete_data.csv')"
      ],
      "execution_count": 59,
      "outputs": []
    },
    {
      "cell_type": "code",
      "metadata": {
        "colab": {
          "base_uri": "https://localhost:8080/",
          "height": 206
        },
        "id": "OoQFtZ3uN0be",
        "outputId": "d592b537-2c7c-453e-da89-4ff1cf008d09"
      },
      "source": [
        "df.head()"
      ],
      "execution_count": 60,
      "outputs": [
        {
          "output_type": "execute_result",
          "data": {
            "text/html": [
              "<div>\n",
              "<style scoped>\n",
              "    .dataframe tbody tr th:only-of-type {\n",
              "        vertical-align: middle;\n",
              "    }\n",
              "\n",
              "    .dataframe tbody tr th {\n",
              "        vertical-align: top;\n",
              "    }\n",
              "\n",
              "    .dataframe thead th {\n",
              "        text-align: right;\n",
              "    }\n",
              "</style>\n",
              "<table border=\"1\" class=\"dataframe\">\n",
              "  <thead>\n",
              "    <tr style=\"text-align: right;\">\n",
              "      <th></th>\n",
              "      <th>Cement</th>\n",
              "      <th>Blast Furnace Slag</th>\n",
              "      <th>Fly Ash</th>\n",
              "      <th>Water</th>\n",
              "      <th>Superplasticizer</th>\n",
              "      <th>Coarse Aggregate</th>\n",
              "      <th>Fine Aggregate</th>\n",
              "      <th>Age</th>\n",
              "      <th>Strength</th>\n",
              "    </tr>\n",
              "  </thead>\n",
              "  <tbody>\n",
              "    <tr>\n",
              "      <th>0</th>\n",
              "      <td>540.0</td>\n",
              "      <td>0.0</td>\n",
              "      <td>0.0</td>\n",
              "      <td>162.0</td>\n",
              "      <td>2.5</td>\n",
              "      <td>1040.0</td>\n",
              "      <td>676.0</td>\n",
              "      <td>28</td>\n",
              "      <td>79.99</td>\n",
              "    </tr>\n",
              "    <tr>\n",
              "      <th>1</th>\n",
              "      <td>540.0</td>\n",
              "      <td>0.0</td>\n",
              "      <td>0.0</td>\n",
              "      <td>162.0</td>\n",
              "      <td>2.5</td>\n",
              "      <td>1055.0</td>\n",
              "      <td>676.0</td>\n",
              "      <td>28</td>\n",
              "      <td>61.89</td>\n",
              "    </tr>\n",
              "    <tr>\n",
              "      <th>2</th>\n",
              "      <td>332.5</td>\n",
              "      <td>142.5</td>\n",
              "      <td>0.0</td>\n",
              "      <td>228.0</td>\n",
              "      <td>0.0</td>\n",
              "      <td>932.0</td>\n",
              "      <td>594.0</td>\n",
              "      <td>270</td>\n",
              "      <td>40.27</td>\n",
              "    </tr>\n",
              "    <tr>\n",
              "      <th>3</th>\n",
              "      <td>332.5</td>\n",
              "      <td>142.5</td>\n",
              "      <td>0.0</td>\n",
              "      <td>228.0</td>\n",
              "      <td>0.0</td>\n",
              "      <td>932.0</td>\n",
              "      <td>594.0</td>\n",
              "      <td>365</td>\n",
              "      <td>41.05</td>\n",
              "    </tr>\n",
              "    <tr>\n",
              "      <th>4</th>\n",
              "      <td>198.6</td>\n",
              "      <td>132.4</td>\n",
              "      <td>0.0</td>\n",
              "      <td>192.0</td>\n",
              "      <td>0.0</td>\n",
              "      <td>978.4</td>\n",
              "      <td>825.5</td>\n",
              "      <td>360</td>\n",
              "      <td>44.30</td>\n",
              "    </tr>\n",
              "  </tbody>\n",
              "</table>\n",
              "</div>"
            ],
            "text/plain": [
              "   Cement  Blast Furnace Slag  Fly Ash  ...  Fine Aggregate  Age  Strength\n",
              "0   540.0                 0.0      0.0  ...           676.0   28     79.99\n",
              "1   540.0                 0.0      0.0  ...           676.0   28     61.89\n",
              "2   332.5               142.5      0.0  ...           594.0  270     40.27\n",
              "3   332.5               142.5      0.0  ...           594.0  365     41.05\n",
              "4   198.6               132.4      0.0  ...           825.5  360     44.30\n",
              "\n",
              "[5 rows x 9 columns]"
            ]
          },
          "metadata": {},
          "execution_count": 60
        }
      ]
    },
    {
      "cell_type": "code",
      "metadata": {
        "colab": {
          "base_uri": "https://localhost:8080/"
        },
        "id": "_WFQtzwcnB9O",
        "outputId": "fbd17bac-8481-4993-d3c1-dea596610920"
      },
      "source": [
        "df.isnull().sum()"
      ],
      "execution_count": 61,
      "outputs": [
        {
          "output_type": "execute_result",
          "data": {
            "text/plain": [
              "Cement                0\n",
              "Blast Furnace Slag    0\n",
              "Fly Ash               0\n",
              "Water                 0\n",
              "Superplasticizer      0\n",
              "Coarse Aggregate      0\n",
              "Fine Aggregate        0\n",
              "Age                   0\n",
              "Strength              0\n",
              "dtype: int64"
            ]
          },
          "metadata": {},
          "execution_count": 61
        }
      ]
    },
    {
      "cell_type": "code",
      "metadata": {
        "id": "MoIymgmnOYuU"
      },
      "source": [
        "x = df.iloc[:,:-1]\n",
        "y = df.iloc[:,-1]"
      ],
      "execution_count": 62,
      "outputs": []
    },
    {
      "cell_type": "code",
      "metadata": {
        "id": "d8Ol5ROgPYG4"
      },
      "source": [
        "from tensorflow import keras\n",
        "from keras.models import Sequential\n",
        "from keras.layers import *\n",
        "import keras_tuner as kt\n",
        "from keras.layers import Dropout\n",
        "from tensorflow.keras.optimizers import Adam"
      ],
      "execution_count": 63,
      "outputs": []
    },
    {
      "cell_type": "code",
      "metadata": {
        "id": "inyg-i0LPaNY"
      },
      "source": [
        "def build_model(hp):\n",
        "    model = keras.Sequential()\n",
        "    model.add(keras.layers.Flatten(input_shape=(8,)))\n",
        "    for i in range(hp.Int('num_layers', 2, 20)):\n",
        "        model.add(Dense(units=hp.Int('units_' + str(i),min_value=16, max_value=512,step=16) ,activation='relu'))\n",
        "    model.add(Dense(1, activation='linear'))\n",
        "    model.compile(optimizer=tf.keras.optimizers.Adam(hp.Choice('learning_rate', [1e-2, 1e-3, 1e-4])), loss='mean_absolute_error', metrics=['mean_absolute_error'])\n",
        "    return model"
      ],
      "execution_count": 64,
      "outputs": []
    },
    {
      "cell_type": "code",
      "metadata": {
        "id": "_jMYd9tmkDVv",
        "colab": {
          "base_uri": "https://localhost:8080/"
        },
        "outputId": "e86209b5-f2b1-4828-f08e-47247fa2cdde"
      },
      "source": [
        "tuner = kt.RandomSearch(\n",
        "    build_model,\n",
        "    objective='val_mean_absolute_error',\n",
        "    max_trials=5,\n",
        "    executions_per_trial=3,\n",
        "    directory='proj_regression',\n",
        "    project_name='Air_quality_')"
      ],
      "execution_count": 65,
      "outputs": [
        {
          "output_type": "stream",
          "name": "stdout",
          "text": [
            "INFO:tensorflow:Reloading Oracle from existing project proj_regression/Air_quality_/oracle.json\n",
            "INFO:tensorflow:Reloading Tuner from proj_regression/Air_quality_/tuner0.json\n"
          ]
        }
      ]
    },
    {
      "cell_type": "code",
      "metadata": {
        "colab": {
          "base_uri": "https://localhost:8080/"
        },
        "id": "X3CSBssbkWpM",
        "outputId": "c9468f96-1efa-42f5-c494-70542b869291"
      },
      "source": [
        "tuner.search_space_summary()"
      ],
      "execution_count": 66,
      "outputs": [
        {
          "output_type": "stream",
          "name": "stdout",
          "text": [
            "Search space summary\n",
            "Default search space size: 12\n",
            "num_layers (Int)\n",
            "{'default': None, 'conditions': [], 'min_value': 2, 'max_value': 20, 'step': 1, 'sampling': None}\n",
            "units_0 (Int)\n",
            "{'default': None, 'conditions': [], 'min_value': 16, 'max_value': 512, 'step': 16, 'sampling': None}\n",
            "units_1 (Int)\n",
            "{'default': None, 'conditions': [], 'min_value': 16, 'max_value': 512, 'step': 16, 'sampling': None}\n",
            "learning_rate (Choice)\n",
            "{'default': 0.01, 'conditions': [], 'values': [0.01, 0.001, 0.0001], 'ordered': True}\n",
            "units_2 (Int)\n",
            "{'default': None, 'conditions': [], 'min_value': 16, 'max_value': 512, 'step': 16, 'sampling': None}\n",
            "units_3 (Int)\n",
            "{'default': None, 'conditions': [], 'min_value': 16, 'max_value': 512, 'step': 16, 'sampling': None}\n",
            "units_4 (Int)\n",
            "{'default': None, 'conditions': [], 'min_value': 16, 'max_value': 512, 'step': 16, 'sampling': None}\n",
            "units_5 (Int)\n",
            "{'default': None, 'conditions': [], 'min_value': 16, 'max_value': 512, 'step': 16, 'sampling': None}\n",
            "units_6 (Int)\n",
            "{'default': None, 'conditions': [], 'min_value': 16, 'max_value': 512, 'step': 16, 'sampling': None}\n",
            "units_7 (Int)\n",
            "{'default': None, 'conditions': [], 'min_value': 16, 'max_value': 512, 'step': 16, 'sampling': None}\n",
            "units_8 (Int)\n",
            "{'default': None, 'conditions': [], 'min_value': 16, 'max_value': 512, 'step': 16, 'sampling': None}\n",
            "units_9 (Int)\n",
            "{'default': None, 'conditions': [], 'min_value': 16, 'max_value': 512, 'step': 16, 'sampling': None}\n"
          ]
        }
      ]
    },
    {
      "cell_type": "code",
      "metadata": {
        "id": "iVTPcwuGkZR-"
      },
      "source": [
        "from sklearn.model_selection import train_test_split\n",
        "\n",
        "x_train, x_test, y_train, y_test = train_test_split(x , y, test_size=0.2, random_state = 32)"
      ],
      "execution_count": 67,
      "outputs": []
    },
    {
      "cell_type": "code",
      "metadata": {
        "id": "Glr9p0cKkcAF"
      },
      "source": [
        "from sklearn.preprocessing import StandardScaler\n",
        "scaler = StandardScaler()\n",
        "x_train_scaled = scaler.fit_transform(x_train)\n",
        "x_test_scaled = scaler.transform(x_test)"
      ],
      "execution_count": 68,
      "outputs": []
    },
    {
      "cell_type": "code",
      "metadata": {
        "colab": {
          "base_uri": "https://localhost:8080/"
        },
        "id": "i96-_mUckntJ",
        "outputId": "f9f9fcef-7e99-4ab4-aa8f-e001485067dc"
      },
      "source": [
        "tuner_search = tuner.search(x_train_scaled, y_train,\n",
        "             epochs=100,\n",
        "             validation_data=(x_test_scaled, y_test))"
      ],
      "execution_count": 69,
      "outputs": [
        {
          "output_type": "stream",
          "name": "stdout",
          "text": [
            "INFO:tensorflow:Oracle triggered exit\n"
          ]
        }
      ]
    },
    {
      "cell_type": "code",
      "metadata": {
        "colab": {
          "base_uri": "https://localhost:8080/"
        },
        "id": "kv5j1ZI_ks5X",
        "outputId": "570cdda9-a102-4500-b7f1-b620a8472fdf"
      },
      "source": [
        "tuner.results_summary()"
      ],
      "execution_count": 70,
      "outputs": [
        {
          "output_type": "stream",
          "name": "stdout",
          "text": [
            "Results summary\n",
            "Results in proj_regression/Air_quality_\n",
            "Showing 10 best trials\n",
            "Objective(name='val_mean_absolute_error', direction='min')\n",
            "Trial summary\n",
            "Hyperparameters:\n",
            "num_layers: 8\n",
            "units_0: 256\n",
            "units_1: 368\n",
            "learning_rate: 0.001\n",
            "units_2: 432\n",
            "units_3: 368\n",
            "units_4: 368\n",
            "units_5: 256\n",
            "units_6: 288\n",
            "units_7: 64\n",
            "units_8: 80\n",
            "units_9: 320\n",
            "Score: 2.876666863759359\n",
            "Trial summary\n",
            "Hyperparameters:\n",
            "num_layers: 8\n",
            "units_0: 144\n",
            "units_1: 480\n",
            "learning_rate: 0.001\n",
            "units_2: 480\n",
            "units_3: 128\n",
            "units_4: 336\n",
            "units_5: 144\n",
            "units_6: 480\n",
            "units_7: 304\n",
            "units_8: 16\n",
            "units_9: 416\n",
            "Score: 2.8838257789611816\n",
            "Trial summary\n",
            "Hyperparameters:\n",
            "num_layers: 5\n",
            "units_0: 80\n",
            "units_1: 384\n",
            "learning_rate: 0.01\n",
            "units_2: 272\n",
            "units_3: 256\n",
            "units_4: 448\n",
            "units_5: 256\n",
            "units_6: 448\n",
            "units_7: 176\n",
            "units_8: 416\n",
            "units_9: 224\n",
            "Score: 3.0061305363972983\n",
            "Trial summary\n",
            "Hyperparameters:\n",
            "num_layers: 9\n",
            "units_0: 112\n",
            "units_1: 144\n",
            "learning_rate: 0.0001\n",
            "units_2: 48\n",
            "units_3: 128\n",
            "units_4: 128\n",
            "units_5: 192\n",
            "units_6: 432\n",
            "units_7: 496\n",
            "units_8: 384\n",
            "units_9: 432\n",
            "Score: 3.404507795969645\n",
            "Trial summary\n",
            "Hyperparameters:\n",
            "num_layers: 10\n",
            "units_0: 224\n",
            "units_1: 336\n",
            "learning_rate: 0.0001\n",
            "units_2: 16\n",
            "units_3: 16\n",
            "units_4: 16\n",
            "units_5: 16\n",
            "units_6: 16\n",
            "units_7: 16\n",
            "units_8: 16\n",
            "units_9: 16\n",
            "Score: 5.384966850280762\n"
          ]
        }
      ]
    },
    {
      "cell_type": "code",
      "metadata": {
        "id": "Y_Af84k1pf2i"
      },
      "source": [
        "regressor = Sequential()\n",
        "\n",
        "regressor.add(Dense(units = 48, kernel_initializer= 'he_uniform', activation='relu' , input_shape=(8,)))\n",
        "\n",
        "regressor.add(Dense(units = 232, kernel_initializer= 'he_uniform', activation='relu'))\n",
        "\n",
        "regressor.add(Dense(units = 16, kernel_initializer= 'he_uniform', activation='relu'))\n",
        "\n",
        "regressor.add(Dense(units = 16, kernel_initializer= 'he_uniform', activation='relu'))\n",
        "\n",
        "regressor.add(Dense(units = 1, kernel_initializer= 'glorot_uniform', activation = 'linear'))"
      ],
      "execution_count": 71,
      "outputs": []
    },
    {
      "cell_type": "code",
      "metadata": {
        "colab": {
          "base_uri": "https://localhost:8080/"
        },
        "id": "rJAC6ZAVuggs",
        "outputId": "071cb3ab-57af-4cc3-ffd7-a05d236a7659"
      },
      "source": [
        "regressor.summary()"
      ],
      "execution_count": 72,
      "outputs": [
        {
          "output_type": "stream",
          "name": "stdout",
          "text": [
            "Model: \"sequential_3\"\n",
            "_________________________________________________________________\n",
            " Layer (type)                Output Shape              Param #   \n",
            "=================================================================\n",
            " dense_14 (Dense)            (None, 48)                432       \n",
            "                                                                 \n",
            " dense_15 (Dense)            (None, 232)               11368     \n",
            "                                                                 \n",
            " dense_16 (Dense)            (None, 16)                3728      \n",
            "                                                                 \n",
            " dense_17 (Dense)            (None, 16)                272       \n",
            "                                                                 \n",
            " dense_18 (Dense)            (None, 1)                 17        \n",
            "                                                                 \n",
            "=================================================================\n",
            "Total params: 15,817\n",
            "Trainable params: 15,817\n",
            "Non-trainable params: 0\n",
            "_________________________________________________________________\n"
          ]
        }
      ]
    },
    {
      "cell_type": "code",
      "metadata": {
        "colab": {
          "base_uri": "https://localhost:8080/"
        },
        "id": "QjCqGRGguiTO",
        "outputId": "cbd99f3b-6e5c-405f-9e20-e14962bd76c3"
      },
      "source": [
        "regressor.compile(optimizer=Adam(learning_rate=0.01), loss='mean_absolute_error', metrics=['mean_absolute_error'] )\n",
        "model_history = regressor.fit(x_train_scaled, y_train, validation_split=0.2, batch_size = 10, epochs = 100)"
      ],
      "execution_count": 73,
      "outputs": [
        {
          "output_type": "stream",
          "name": "stdout",
          "text": [
            "Epoch 1/100\n",
            "66/66 [==============================] - 1s 4ms/step - loss: 14.6669 - mean_absolute_error: 14.6669 - val_loss: 12.4833 - val_mean_absolute_error: 12.4833\n",
            "Epoch 2/100\n",
            "66/66 [==============================] - 0s 3ms/step - loss: 10.7095 - mean_absolute_error: 10.7095 - val_loss: 10.5359 - val_mean_absolute_error: 10.5359\n",
            "Epoch 3/100\n",
            "66/66 [==============================] - 0s 3ms/step - loss: 8.9036 - mean_absolute_error: 8.9036 - val_loss: 8.1519 - val_mean_absolute_error: 8.1519\n",
            "Epoch 4/100\n",
            "66/66 [==============================] - 0s 3ms/step - loss: 7.5759 - mean_absolute_error: 7.5759 - val_loss: 7.8726 - val_mean_absolute_error: 7.8726\n",
            "Epoch 5/100\n",
            "66/66 [==============================] - 0s 3ms/step - loss: 6.6126 - mean_absolute_error: 6.6126 - val_loss: 8.1567 - val_mean_absolute_error: 8.1567\n",
            "Epoch 6/100\n",
            "66/66 [==============================] - 0s 2ms/step - loss: 6.1073 - mean_absolute_error: 6.1073 - val_loss: 6.4767 - val_mean_absolute_error: 6.4767\n",
            "Epoch 7/100\n",
            "66/66 [==============================] - 0s 3ms/step - loss: 6.0818 - mean_absolute_error: 6.0818 - val_loss: 6.5309 - val_mean_absolute_error: 6.5309\n",
            "Epoch 8/100\n",
            "66/66 [==============================] - 0s 2ms/step - loss: 5.7675 - mean_absolute_error: 5.7675 - val_loss: 6.0436 - val_mean_absolute_error: 6.0436\n",
            "Epoch 9/100\n",
            "66/66 [==============================] - 0s 3ms/step - loss: 5.9916 - mean_absolute_error: 5.9916 - val_loss: 6.1199 - val_mean_absolute_error: 6.1199\n",
            "Epoch 10/100\n",
            "66/66 [==============================] - 0s 3ms/step - loss: 5.5311 - mean_absolute_error: 5.5311 - val_loss: 5.0642 - val_mean_absolute_error: 5.0642\n",
            "Epoch 11/100\n",
            "66/66 [==============================] - 0s 3ms/step - loss: 4.9144 - mean_absolute_error: 4.9144 - val_loss: 5.0969 - val_mean_absolute_error: 5.0969\n",
            "Epoch 12/100\n",
            "66/66 [==============================] - 0s 3ms/step - loss: 4.7806 - mean_absolute_error: 4.7806 - val_loss: 5.3969 - val_mean_absolute_error: 5.3969\n",
            "Epoch 13/100\n",
            "66/66 [==============================] - 0s 2ms/step - loss: 4.8655 - mean_absolute_error: 4.8655 - val_loss: 6.2821 - val_mean_absolute_error: 6.2821\n",
            "Epoch 14/100\n",
            "66/66 [==============================] - 0s 2ms/step - loss: 4.5990 - mean_absolute_error: 4.5990 - val_loss: 4.9957 - val_mean_absolute_error: 4.9957\n",
            "Epoch 15/100\n",
            "66/66 [==============================] - 0s 2ms/step - loss: 4.6643 - mean_absolute_error: 4.6643 - val_loss: 5.4171 - val_mean_absolute_error: 5.4171\n",
            "Epoch 16/100\n",
            "66/66 [==============================] - 0s 2ms/step - loss: 4.2889 - mean_absolute_error: 4.2889 - val_loss: 4.5507 - val_mean_absolute_error: 4.5507\n",
            "Epoch 17/100\n",
            "66/66 [==============================] - 0s 3ms/step - loss: 4.2698 - mean_absolute_error: 4.2698 - val_loss: 4.5067 - val_mean_absolute_error: 4.5067\n",
            "Epoch 18/100\n",
            "66/66 [==============================] - 0s 2ms/step - loss: 4.0427 - mean_absolute_error: 4.0427 - val_loss: 4.9541 - val_mean_absolute_error: 4.9541\n",
            "Epoch 19/100\n",
            "66/66 [==============================] - 0s 3ms/step - loss: 4.2655 - mean_absolute_error: 4.2655 - val_loss: 4.9005 - val_mean_absolute_error: 4.9005\n",
            "Epoch 20/100\n",
            "66/66 [==============================] - 0s 2ms/step - loss: 4.8467 - mean_absolute_error: 4.8467 - val_loss: 5.2677 - val_mean_absolute_error: 5.2677\n",
            "Epoch 21/100\n",
            "66/66 [==============================] - 0s 2ms/step - loss: 3.8301 - mean_absolute_error: 3.8301 - val_loss: 4.6955 - val_mean_absolute_error: 4.6955\n",
            "Epoch 22/100\n",
            "66/66 [==============================] - 0s 2ms/step - loss: 3.8115 - mean_absolute_error: 3.8115 - val_loss: 4.3729 - val_mean_absolute_error: 4.3729\n",
            "Epoch 23/100\n",
            "66/66 [==============================] - 0s 3ms/step - loss: 4.3883 - mean_absolute_error: 4.3883 - val_loss: 5.1693 - val_mean_absolute_error: 5.1693\n",
            "Epoch 24/100\n",
            "66/66 [==============================] - 0s 2ms/step - loss: 3.9220 - mean_absolute_error: 3.9220 - val_loss: 4.9457 - val_mean_absolute_error: 4.9457\n",
            "Epoch 25/100\n",
            "66/66 [==============================] - 0s 3ms/step - loss: 4.1379 - mean_absolute_error: 4.1379 - val_loss: 5.8345 - val_mean_absolute_error: 5.8345\n",
            "Epoch 26/100\n",
            "66/66 [==============================] - 0s 3ms/step - loss: 3.9825 - mean_absolute_error: 3.9825 - val_loss: 5.6044 - val_mean_absolute_error: 5.6044\n",
            "Epoch 27/100\n",
            "66/66 [==============================] - 0s 3ms/step - loss: 3.6627 - mean_absolute_error: 3.6627 - val_loss: 5.0906 - val_mean_absolute_error: 5.0906\n",
            "Epoch 28/100\n",
            "66/66 [==============================] - 0s 2ms/step - loss: 3.4757 - mean_absolute_error: 3.4757 - val_loss: 4.7446 - val_mean_absolute_error: 4.7446\n",
            "Epoch 29/100\n",
            "66/66 [==============================] - 0s 2ms/step - loss: 3.4485 - mean_absolute_error: 3.4485 - val_loss: 5.2162 - val_mean_absolute_error: 5.2162\n",
            "Epoch 30/100\n",
            "66/66 [==============================] - 0s 3ms/step - loss: 3.6809 - mean_absolute_error: 3.6809 - val_loss: 4.3521 - val_mean_absolute_error: 4.3521\n",
            "Epoch 31/100\n",
            "66/66 [==============================] - 0s 2ms/step - loss: 3.7426 - mean_absolute_error: 3.7426 - val_loss: 4.9474 - val_mean_absolute_error: 4.9474\n",
            "Epoch 32/100\n",
            "66/66 [==============================] - 0s 2ms/step - loss: 3.3753 - mean_absolute_error: 3.3753 - val_loss: 5.0744 - val_mean_absolute_error: 5.0744\n",
            "Epoch 33/100\n",
            "66/66 [==============================] - 0s 2ms/step - loss: 3.4779 - mean_absolute_error: 3.4779 - val_loss: 4.6282 - val_mean_absolute_error: 4.6282\n",
            "Epoch 34/100\n",
            "66/66 [==============================] - 0s 2ms/step - loss: 3.0993 - mean_absolute_error: 3.0993 - val_loss: 4.9120 - val_mean_absolute_error: 4.9120\n",
            "Epoch 35/100\n",
            "66/66 [==============================] - 0s 2ms/step - loss: 3.1644 - mean_absolute_error: 3.1644 - val_loss: 5.3791 - val_mean_absolute_error: 5.3791\n",
            "Epoch 36/100\n",
            "66/66 [==============================] - 0s 2ms/step - loss: 3.2732 - mean_absolute_error: 3.2732 - val_loss: 5.1247 - val_mean_absolute_error: 5.1247\n",
            "Epoch 37/100\n",
            "66/66 [==============================] - 0s 3ms/step - loss: 3.4756 - mean_absolute_error: 3.4756 - val_loss: 4.5876 - val_mean_absolute_error: 4.5876\n",
            "Epoch 38/100\n",
            "66/66 [==============================] - 0s 3ms/step - loss: 3.4097 - mean_absolute_error: 3.4097 - val_loss: 4.0946 - val_mean_absolute_error: 4.0946\n",
            "Epoch 39/100\n",
            "66/66 [==============================] - 0s 2ms/step - loss: 3.5135 - mean_absolute_error: 3.5135 - val_loss: 4.6242 - val_mean_absolute_error: 4.6242\n",
            "Epoch 40/100\n",
            "66/66 [==============================] - 0s 2ms/step - loss: 3.7401 - mean_absolute_error: 3.7401 - val_loss: 4.4067 - val_mean_absolute_error: 4.4067\n",
            "Epoch 41/100\n",
            "66/66 [==============================] - 0s 2ms/step - loss: 3.1864 - mean_absolute_error: 3.1864 - val_loss: 4.2281 - val_mean_absolute_error: 4.2281\n",
            "Epoch 42/100\n",
            "66/66 [==============================] - 0s 2ms/step - loss: 3.2169 - mean_absolute_error: 3.2169 - val_loss: 4.4113 - val_mean_absolute_error: 4.4113\n",
            "Epoch 43/100\n",
            "66/66 [==============================] - 0s 3ms/step - loss: 3.4164 - mean_absolute_error: 3.4164 - val_loss: 4.6772 - val_mean_absolute_error: 4.6772\n",
            "Epoch 44/100\n",
            "66/66 [==============================] - 0s 2ms/step - loss: 3.1893 - mean_absolute_error: 3.1893 - val_loss: 4.1307 - val_mean_absolute_error: 4.1307\n",
            "Epoch 45/100\n",
            "66/66 [==============================] - 0s 2ms/step - loss: 3.1029 - mean_absolute_error: 3.1029 - val_loss: 4.2443 - val_mean_absolute_error: 4.2443\n",
            "Epoch 46/100\n",
            "66/66 [==============================] - 0s 2ms/step - loss: 3.0385 - mean_absolute_error: 3.0385 - val_loss: 4.4698 - val_mean_absolute_error: 4.4698\n",
            "Epoch 47/100\n",
            "66/66 [==============================] - 0s 2ms/step - loss: 3.2223 - mean_absolute_error: 3.2223 - val_loss: 4.1601 - val_mean_absolute_error: 4.1601\n",
            "Epoch 48/100\n",
            "66/66 [==============================] - 0s 3ms/step - loss: 3.0003 - mean_absolute_error: 3.0003 - val_loss: 4.3454 - val_mean_absolute_error: 4.3454\n",
            "Epoch 49/100\n",
            "66/66 [==============================] - 0s 2ms/step - loss: 3.0443 - mean_absolute_error: 3.0443 - val_loss: 4.5567 - val_mean_absolute_error: 4.5567\n",
            "Epoch 50/100\n",
            "66/66 [==============================] - 0s 2ms/step - loss: 2.9319 - mean_absolute_error: 2.9319 - val_loss: 4.1698 - val_mean_absolute_error: 4.1698\n",
            "Epoch 51/100\n",
            "66/66 [==============================] - 0s 3ms/step - loss: 2.9291 - mean_absolute_error: 2.9291 - val_loss: 4.0079 - val_mean_absolute_error: 4.0079\n",
            "Epoch 52/100\n",
            "66/66 [==============================] - 0s 2ms/step - loss: 2.9617 - mean_absolute_error: 2.9617 - val_loss: 4.2351 - val_mean_absolute_error: 4.2351\n",
            "Epoch 53/100\n",
            "66/66 [==============================] - 0s 2ms/step - loss: 3.0501 - mean_absolute_error: 3.0501 - val_loss: 4.5475 - val_mean_absolute_error: 4.5475\n",
            "Epoch 54/100\n",
            "66/66 [==============================] - 0s 2ms/step - loss: 3.0148 - mean_absolute_error: 3.0148 - val_loss: 4.5222 - val_mean_absolute_error: 4.5222\n",
            "Epoch 55/100\n",
            "66/66 [==============================] - 0s 3ms/step - loss: 3.0813 - mean_absolute_error: 3.0813 - val_loss: 4.1946 - val_mean_absolute_error: 4.1946\n",
            "Epoch 56/100\n",
            "66/66 [==============================] - 0s 2ms/step - loss: 3.1783 - mean_absolute_error: 3.1783 - val_loss: 5.3318 - val_mean_absolute_error: 5.3318\n",
            "Epoch 57/100\n",
            "66/66 [==============================] - 0s 2ms/step - loss: 3.2036 - mean_absolute_error: 3.2036 - val_loss: 3.9801 - val_mean_absolute_error: 3.9801\n",
            "Epoch 58/100\n",
            "66/66 [==============================] - 0s 2ms/step - loss: 2.9760 - mean_absolute_error: 2.9760 - val_loss: 4.0240 - val_mean_absolute_error: 4.0240\n",
            "Epoch 59/100\n",
            "66/66 [==============================] - 0s 3ms/step - loss: 2.8915 - mean_absolute_error: 2.8915 - val_loss: 4.2789 - val_mean_absolute_error: 4.2789\n",
            "Epoch 60/100\n",
            "66/66 [==============================] - 0s 2ms/step - loss: 3.0718 - mean_absolute_error: 3.0718 - val_loss: 4.7728 - val_mean_absolute_error: 4.7728\n",
            "Epoch 61/100\n",
            "66/66 [==============================] - 0s 3ms/step - loss: 3.1245 - mean_absolute_error: 3.1245 - val_loss: 4.0578 - val_mean_absolute_error: 4.0578\n",
            "Epoch 62/100\n",
            "66/66 [==============================] - 0s 3ms/step - loss: 2.6693 - mean_absolute_error: 2.6693 - val_loss: 4.1858 - val_mean_absolute_error: 4.1858\n",
            "Epoch 63/100\n",
            "66/66 [==============================] - 0s 2ms/step - loss: 2.6916 - mean_absolute_error: 2.6916 - val_loss: 4.4380 - val_mean_absolute_error: 4.4380\n",
            "Epoch 64/100\n",
            "66/66 [==============================] - 0s 2ms/step - loss: 2.9169 - mean_absolute_error: 2.9169 - val_loss: 5.4648 - val_mean_absolute_error: 5.4648\n",
            "Epoch 65/100\n",
            "66/66 [==============================] - 0s 2ms/step - loss: 2.8060 - mean_absolute_error: 2.8060 - val_loss: 4.2663 - val_mean_absolute_error: 4.2663\n",
            "Epoch 66/100\n",
            "66/66 [==============================] - 0s 3ms/step - loss: 2.7087 - mean_absolute_error: 2.7087 - val_loss: 4.1555 - val_mean_absolute_error: 4.1555\n",
            "Epoch 67/100\n",
            "66/66 [==============================] - 0s 2ms/step - loss: 2.9090 - mean_absolute_error: 2.9090 - val_loss: 4.1447 - val_mean_absolute_error: 4.1447\n",
            "Epoch 68/100\n",
            "66/66 [==============================] - 0s 2ms/step - loss: 2.6465 - mean_absolute_error: 2.6465 - val_loss: 4.2209 - val_mean_absolute_error: 4.2209\n",
            "Epoch 69/100\n",
            "66/66 [==============================] - 0s 2ms/step - loss: 2.7020 - mean_absolute_error: 2.7020 - val_loss: 4.0413 - val_mean_absolute_error: 4.0413\n",
            "Epoch 70/100\n",
            "66/66 [==============================] - 0s 2ms/step - loss: 2.8335 - mean_absolute_error: 2.8335 - val_loss: 4.1212 - val_mean_absolute_error: 4.1212\n",
            "Epoch 71/100\n",
            "66/66 [==============================] - 0s 2ms/step - loss: 2.6326 - mean_absolute_error: 2.6326 - val_loss: 4.1186 - val_mean_absolute_error: 4.1186\n",
            "Epoch 72/100\n",
            "66/66 [==============================] - 0s 3ms/step - loss: 2.8834 - mean_absolute_error: 2.8834 - val_loss: 3.8975 - val_mean_absolute_error: 3.8975\n",
            "Epoch 73/100\n",
            "66/66 [==============================] - 0s 3ms/step - loss: 2.5731 - mean_absolute_error: 2.5731 - val_loss: 4.3421 - val_mean_absolute_error: 4.3421\n",
            "Epoch 74/100\n",
            "66/66 [==============================] - 0s 3ms/step - loss: 2.6969 - mean_absolute_error: 2.6969 - val_loss: 4.2467 - val_mean_absolute_error: 4.2467\n",
            "Epoch 75/100\n",
            "66/66 [==============================] - 0s 2ms/step - loss: 2.5760 - mean_absolute_error: 2.5760 - val_loss: 4.3011 - val_mean_absolute_error: 4.3011\n",
            "Epoch 76/100\n",
            "66/66 [==============================] - 0s 3ms/step - loss: 2.7044 - mean_absolute_error: 2.7044 - val_loss: 3.5991 - val_mean_absolute_error: 3.5991\n",
            "Epoch 77/100\n",
            "66/66 [==============================] - 0s 3ms/step - loss: 2.4691 - mean_absolute_error: 2.4691 - val_loss: 4.4266 - val_mean_absolute_error: 4.4266\n",
            "Epoch 78/100\n",
            "66/66 [==============================] - 0s 3ms/step - loss: 2.8413 - mean_absolute_error: 2.8413 - val_loss: 4.1936 - val_mean_absolute_error: 4.1936\n",
            "Epoch 79/100\n",
            "66/66 [==============================] - 0s 3ms/step - loss: 2.5834 - mean_absolute_error: 2.5834 - val_loss: 3.9157 - val_mean_absolute_error: 3.9157\n",
            "Epoch 80/100\n",
            "66/66 [==============================] - 0s 3ms/step - loss: 2.5689 - mean_absolute_error: 2.5689 - val_loss: 4.5085 - val_mean_absolute_error: 4.5085\n",
            "Epoch 81/100\n",
            "66/66 [==============================] - 0s 2ms/step - loss: 2.7647 - mean_absolute_error: 2.7647 - val_loss: 4.0113 - val_mean_absolute_error: 4.0113\n",
            "Epoch 82/100\n",
            "66/66 [==============================] - 0s 3ms/step - loss: 2.5332 - mean_absolute_error: 2.5332 - val_loss: 3.7380 - val_mean_absolute_error: 3.7380\n",
            "Epoch 83/100\n",
            "66/66 [==============================] - 0s 3ms/step - loss: 2.7015 - mean_absolute_error: 2.7015 - val_loss: 4.3602 - val_mean_absolute_error: 4.3602\n",
            "Epoch 84/100\n",
            "66/66 [==============================] - 0s 3ms/step - loss: 2.4122 - mean_absolute_error: 2.4122 - val_loss: 4.0455 - val_mean_absolute_error: 4.0455\n",
            "Epoch 85/100\n",
            "66/66 [==============================] - 0s 3ms/step - loss: 2.5334 - mean_absolute_error: 2.5334 - val_loss: 4.6788 - val_mean_absolute_error: 4.6788\n",
            "Epoch 86/100\n",
            "66/66 [==============================] - 0s 3ms/step - loss: 2.5905 - mean_absolute_error: 2.5905 - val_loss: 4.1401 - val_mean_absolute_error: 4.1401\n",
            "Epoch 87/100\n",
            "66/66 [==============================] - 0s 3ms/step - loss: 2.5875 - mean_absolute_error: 2.5875 - val_loss: 3.8421 - val_mean_absolute_error: 3.8421\n",
            "Epoch 88/100\n",
            "66/66 [==============================] - 0s 3ms/step - loss: 2.5465 - mean_absolute_error: 2.5465 - val_loss: 3.6673 - val_mean_absolute_error: 3.6673\n",
            "Epoch 89/100\n",
            "66/66 [==============================] - 0s 3ms/step - loss: 2.5775 - mean_absolute_error: 2.5775 - val_loss: 3.9066 - val_mean_absolute_error: 3.9066\n",
            "Epoch 90/100\n",
            "66/66 [==============================] - 0s 3ms/step - loss: 2.5114 - mean_absolute_error: 2.5114 - val_loss: 4.5057 - val_mean_absolute_error: 4.5057\n",
            "Epoch 91/100\n",
            "66/66 [==============================] - 0s 3ms/step - loss: 2.4463 - mean_absolute_error: 2.4463 - val_loss: 3.9888 - val_mean_absolute_error: 3.9888\n",
            "Epoch 92/100\n",
            "66/66 [==============================] - 0s 3ms/step - loss: 2.5500 - mean_absolute_error: 2.5500 - val_loss: 3.9476 - val_mean_absolute_error: 3.9476\n",
            "Epoch 93/100\n",
            "66/66 [==============================] - 0s 3ms/step - loss: 2.6821 - mean_absolute_error: 2.6821 - val_loss: 3.8027 - val_mean_absolute_error: 3.8027\n",
            "Epoch 94/100\n",
            "66/66 [==============================] - 0s 3ms/step - loss: 2.4243 - mean_absolute_error: 2.4243 - val_loss: 3.8072 - val_mean_absolute_error: 3.8072\n",
            "Epoch 95/100\n",
            "66/66 [==============================] - 0s 3ms/step - loss: 2.4415 - mean_absolute_error: 2.4415 - val_loss: 3.9790 - val_mean_absolute_error: 3.9790\n",
            "Epoch 96/100\n",
            "66/66 [==============================] - 0s 3ms/step - loss: 2.7859 - mean_absolute_error: 2.7859 - val_loss: 4.1936 - val_mean_absolute_error: 4.1936\n",
            "Epoch 97/100\n",
            "66/66 [==============================] - 0s 3ms/step - loss: 2.5336 - mean_absolute_error: 2.5336 - val_loss: 3.7349 - val_mean_absolute_error: 3.7349\n",
            "Epoch 98/100\n",
            "66/66 [==============================] - 0s 3ms/step - loss: 2.3826 - mean_absolute_error: 2.3826 - val_loss: 3.8549 - val_mean_absolute_error: 3.8549\n",
            "Epoch 99/100\n",
            "66/66 [==============================] - 0s 2ms/step - loss: 2.4259 - mean_absolute_error: 2.4259 - val_loss: 3.7581 - val_mean_absolute_error: 3.7581\n",
            "Epoch 100/100\n",
            "66/66 [==============================] - 0s 2ms/step - loss: 2.4503 - mean_absolute_error: 2.4503 - val_loss: 4.0406 - val_mean_absolute_error: 4.0406\n"
          ]
        }
      ]
    },
    {
      "cell_type": "code",
      "metadata": {
        "colab": {
          "base_uri": "https://localhost:8080/"
        },
        "id": "McKj_li4una9",
        "outputId": "73a118e3-3c6f-4dd1-fe66-7c3dbd17b1b6"
      },
      "source": [
        "mae_neural=regressor.evaluate(x_test_scaled,y_test)\n",
        "print('Mean absolute error from neural network :', mae_neural)"
      ],
      "execution_count": 81,
      "outputs": [
        {
          "output_type": "stream",
          "name": "stdout",
          "text": [
            "7/7 [==============================] - 0s 2ms/step - loss: 3.7800 - mean_absolute_error: 3.7800\n",
            "Mean absolute error from neural network : [3.780029058456421, 3.780029058456421]\n"
          ]
        }
      ]
    },
    {
      "cell_type": "code",
      "metadata": {
        "id": "5QLH1d1cF_DY"
      },
      "source": [
        "from matplotlib import pyplot as plt"
      ],
      "execution_count": 75,
      "outputs": []
    },
    {
      "cell_type": "code",
      "metadata": {
        "colab": {
          "base_uri": "https://localhost:8080/",
          "height": 295
        },
        "id": "0WcZHU4VtN-T",
        "outputId": "b34664d2-6199-4d79-99a1-46bacea69542"
      },
      "source": [
        "loss=model_history.history['loss']\n",
        "val_loss=model_history.history['val_loss']\n",
        "epochs=range(1,len(loss) +1)\n",
        "plt.plot(epochs, loss, 'y', label='Training loss')\n",
        "plt.plot(epochs, val_loss, 'r', label='validation loss')\n",
        "plt.title('Training and validation loss')\n",
        "plt.xlabel('Epochs')\n",
        "plt.ylabel('Loss')\n",
        "plt.legend()\n",
        "plt.show()"
      ],
      "execution_count": 76,
      "outputs": [
        {
          "output_type": "display_data",
          "data": {
            "image/png": "[encoded data removed]",
            "text/plain": [
              "<Figure size 432x288 with 1 Axes>"
            ]
          },
          "metadata": {
            "needs_background": "light"
          }
        }
      ]
    },
    {
      "cell_type": "code",
      "metadata": {
        "colab": {
          "base_uri": "https://localhost:8080/",
          "height": 295
        },
        "id": "__t7neviQ3Ed",
        "outputId": "ea663111-a303-4099-dddb-fdd0692493c6"
      },
      "source": [
        "acc=model_history.history['mean_absolute_error']\n",
        "val_acc=model_history.history['val_mean_absolute_error']\n",
        "plt.plot(epochs, acc, 'y', label='Training mae')\n",
        "plt.plot(epochs, val_acc, 'r', label='validation mae')\n",
        "plt.title('Training and validation mae')\n",
        "plt.xlabel('Epochs')\n",
        "plt.ylabel('Accuracy')\n",
        "plt.legend()\n",
        "plt.show()"
      ],
      "execution_count": 77,
      "outputs": [
        {
          "output_type": "display_data",
          "data": {
            "image/png": "[encoded data removed]",
            "text/plain": [
              "<Figure size 432x288 with 1 Axes>"
            ]
          },
          "metadata": {
            "needs_background": "light"
          }
        }
      ]
    },
    {
      "cell_type": "code",
      "metadata": {
        "colab": {
          "base_uri": "https://localhost:8080/"
        },
        "id": "e9OnQLoARXIk",
        "outputId": "5f92023c-1a56-4ce0-f7c0-1f44c3f067b0"
      },
      "source": [
        "predictions=regressor.predict(x_test_scaled[:5])\n",
        "print(\"predicted value are:\\n\",predictions)\n",
        "print(\"real value are:\\n\",y_test[:5])"
      ],
      "execution_count": 78,
      "outputs": [
        {
          "output_type": "stream",
          "name": "stdout",
          "text": [
            "predicted value are:\n",
            " [[19.402992]\n",
            " [30.060278]\n",
            " [13.075176]\n",
            " [46.6426  ]\n",
            " [39.71788 ]]\n",
            "real value are:\n",
            " 875    18.28\n",
            "660    31.02\n",
            "606    12.84\n",
            "233    53.90\n",
            "692    39.70\n",
            "Name: Strength, dtype: float64\n"
          ]
        }
      ]
    },
    {
      "cell_type": "code",
      "metadata": {
        "id": "wfrWdjnYvUi8"
      },
      "source": [
        "from sklearn import linear_model\n",
        "from sklearn.tree import DecisionTreeRegressor\n",
        "from sklearn.metrics import mean_squared_error, mean_absolute_error"
      ],
      "execution_count": 79,
      "outputs": []
    },
    {
      "cell_type": "code",
      "metadata": {
        "colab": {
          "base_uri": "https://localhost:8080/"
        },
        "id": "Ex6_dvjnSD9H",
        "outputId": "9fb9692f-4480-4c14-dc83-1439ea83d9a8"
      },
      "source": [
        "lr_model=linear_model.LinearRegression()\n",
        "lr_model.fit(x_train_scaled,y_train)\n",
        "y_pred_lr=lr_model.predict(x_test_scaled)\n",
        "mse_lr=mean_squared_error(y_test,y_pred_lr)\n",
        "mae_lr=mean_absolute_error(y_test, y_pred_lr)\n",
        "print('Mean squared error from linear regression:', mse_lr)\n",
        "print('Mean absolute error from linear regression:', mae_lr)"
      ],
      "execution_count": 80,
      "outputs": [
        {
          "output_type": "stream",
          "name": "stdout",
          "text": [
            "Mean squared error from linear regression: 95.56665006372283\n",
            "Mean absolute error from linear regression: 7.616684073811422\n"
          ]
        }
      ]
    },
    {
      "cell_type": "code",
      "metadata": {
        "id": "Wqg8eGSHSdMN"
      },
      "source": [
        ""
      ],
      "execution_count": 80,
      "outputs": []
    }
  ]
}